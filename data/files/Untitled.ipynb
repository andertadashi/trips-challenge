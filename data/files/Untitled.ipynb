{
 "cells": [
  {
   "cell_type": "code",
   "execution_count": 30,
   "id": "59c2da97",
   "metadata": {},
   "outputs": [
    {
     "name": "stdout",
     "output_type": "stream",
     "text": [
      "   region                                 origin_coord  \\\n",
      "0  Prague   POINT (14.4973794438195 50.00136875782316)   \n",
      "1   Turin   POINT (7.672837913286881 44.9957109242058)   \n",
      "2  Prague  POINT (14.32427345662177 50.00002074358429)   \n",
      "3   Turin  POINT (7.541509189114433 45.09160503827746)   \n",
      "4   Turin  POINT (7.614078119815749 45.13433106465422)   \n",
      "\n",
      "                             destination_coord             datetime  \\\n",
      "0  POINT (14.43109483523328 50.04052930943246)  2018-05-28 09:03:40   \n",
      "1  POINT (7.720368637535126 45.06782385393849)  2018-05-21 02:54:04   \n",
      "2  POINT (14.47767895969969 50.09339790740321)  2018-05-13 08:52:25   \n",
      "3   POINT (7.74528653441973 45.02628598341506)  2018-05-06 09:49:16   \n",
      "4  POINT (7.527497142312585 45.03335051325654)  2018-05-23 12:45:54   \n",
      "\n",
      "            datasource geometry  \n",
      "0            funny_car     None  \n",
      "1             baba_car     None  \n",
      "2         cheap_mobile     None  \n",
      "3  bad_diesel_vehicles     None  \n",
      "4        pt_search_app     None  \n"
     ]
    }
   ],
   "source": [
    "import pandas as pd\n",
    "import geopandas as gpd\n",
    "import random\n",
    "df = gpd.read_file(\"./trips.csv\", encoding=\"utf-8\", geometr)\n",
    "print(df.head()) \n",
    "\n",
    "count = 0\n",
    "total = 100000000"
   ]
  },
  {
   "cell_type": "code",
   "execution_count": 46,
   "id": "00a6f61d",
   "metadata": {},
   "outputs": [
    {
     "name": "stderr",
     "output_type": "stream",
     "text": [
      "/tmp/ipykernel_113012/239633012.py:1: FutureWarning:     You are passing non-geometry data to the GeoSeries constructor. Currently,\n",
      "    it falls back to returning a pandas Series. But in the future, we will start\n",
      "    to raise a TypeError instead.\n",
      "  df['origin_coord'] = gpd.GeoSeries(df['origin_coord'])\n"
     ]
    }
   ],
   "source": [
    "df['origin_coord'] = gpd.GeoSeries(df['origin_coord'])"
   ]
  },
  {
   "cell_type": "code",
   "execution_count": 53,
   "id": "d1758550",
   "metadata": {},
   "outputs": [
    {
     "data": {
      "text/plain": [
       "0      POINT (14.4973794438195 50.00136875782316)\n",
       "1      POINT (7.672837913286881 44.9957109242058)\n",
       "2     POINT (14.32427345662177 50.00002074358429)\n",
       "3     POINT (7.541509189114433 45.09160503827746)\n",
       "4     POINT (7.614078119815749 45.13433106465422)\n",
       "                         ...                     \n",
       "95    POINT (14.33562319852013 50.05977285737693)\n",
       "96    POINT (9.996714798980491 53.52203690589671)\n",
       "97      POINT (14.40975521275597 50.037791514028)\n",
       "98    POINT (10.08338857045871 53.59661344302611)\n",
       "99    POINT (14.61738744026195 50.03346482370401)\n",
       "Name: origin_coord, Length: 100, dtype: object"
      ]
     },
     "execution_count": 53,
     "metadata": {},
     "output_type": "execute_result"
    }
   ],
   "source": [
    "df['origin_coord']"
   ]
  },
  {
   "cell_type": "code",
   "execution_count": 31,
   "id": "fb5a3cfa",
   "metadata": {},
   "outputs": [],
   "source": [
    "random.seed(2)"
   ]
  },
  {
   "cell_type": "code",
   "execution_count": 32,
   "id": "fcf52b97",
   "metadata": {},
   "outputs": [
    {
     "data": {
      "text/plain": [
       "0.0027"
      ]
     },
     "execution_count": 32,
     "metadata": {},
     "output_type": "execute_result"
    }
   ],
   "source": [
    "random.randint(20,100)/10000.0"
   ]
  },
  {
   "cell_type": "code",
   "execution_count": 38,
   "id": "12f23bd8",
   "metadata": {},
   "outputs": [
    {
     "ename": "AttributeError",
     "evalue": "'Series' object has no attribute 'p'",
     "output_type": "error",
     "traceback": [
      "\u001b[0;31m---------------------------------------------------------------------------\u001b[0m",
      "\u001b[0;31mAttributeError\u001b[0m                            Traceback (most recent call last)",
      "Input \u001b[0;32mIn [38]\u001b[0m, in \u001b[0;36m<cell line: 1>\u001b[0;34m()\u001b[0m\n\u001b[0;32m----> 1\u001b[0m df[\u001b[38;5;124m'\u001b[39m\u001b[38;5;124morigin_coord\u001b[39m\u001b[38;5;124m'\u001b[39m] \u001b[38;5;241m=\u001b[39m \u001b[43mdf\u001b[49m\u001b[43m[\u001b[49m\u001b[38;5;124;43m'\u001b[39;49m\u001b[38;5;124;43morigin_coord\u001b[39;49m\u001b[38;5;124;43m'\u001b[39;49m\u001b[43m]\u001b[49m\u001b[38;5;241;43m.\u001b[39;49m\u001b[43mp\u001b[49m\u001b[38;5;241m.\u001b[39mx \u001b[38;5;241m+\u001b[39m random\u001b[38;5;241m.\u001b[39mrandint(\u001b[38;5;241m20\u001b[39m,\u001b[38;5;241m100\u001b[39m)\u001b[38;5;241m/\u001b[39m\u001b[38;5;241m10000.0\u001b[39m\n",
      "File \u001b[0;32m~/.pyenv/versions/jobsite/lib/python3.9/site-packages/pandas/core/generic.py:5575\u001b[0m, in \u001b[0;36mNDFrame.__getattr__\u001b[0;34m(self, name)\u001b[0m\n\u001b[1;32m   5568\u001b[0m \u001b[38;5;28;01mif\u001b[39;00m (\n\u001b[1;32m   5569\u001b[0m     name \u001b[38;5;129;01mnot\u001b[39;00m \u001b[38;5;129;01min\u001b[39;00m \u001b[38;5;28mself\u001b[39m\u001b[38;5;241m.\u001b[39m_internal_names_set\n\u001b[1;32m   5570\u001b[0m     \u001b[38;5;129;01mand\u001b[39;00m name \u001b[38;5;129;01mnot\u001b[39;00m \u001b[38;5;129;01min\u001b[39;00m \u001b[38;5;28mself\u001b[39m\u001b[38;5;241m.\u001b[39m_metadata\n\u001b[1;32m   5571\u001b[0m     \u001b[38;5;129;01mand\u001b[39;00m name \u001b[38;5;129;01mnot\u001b[39;00m \u001b[38;5;129;01min\u001b[39;00m \u001b[38;5;28mself\u001b[39m\u001b[38;5;241m.\u001b[39m_accessors\n\u001b[1;32m   5572\u001b[0m     \u001b[38;5;129;01mand\u001b[39;00m \u001b[38;5;28mself\u001b[39m\u001b[38;5;241m.\u001b[39m_info_axis\u001b[38;5;241m.\u001b[39m_can_hold_identifiers_and_holds_name(name)\n\u001b[1;32m   5573\u001b[0m ):\n\u001b[1;32m   5574\u001b[0m     \u001b[38;5;28;01mreturn\u001b[39;00m \u001b[38;5;28mself\u001b[39m[name]\n\u001b[0;32m-> 5575\u001b[0m \u001b[38;5;28;01mreturn\u001b[39;00m \u001b[38;5;28;43mobject\u001b[39;49m\u001b[38;5;241;43m.\u001b[39;49m\u001b[38;5;21;43m__getattribute__\u001b[39;49m\u001b[43m(\u001b[49m\u001b[38;5;28;43mself\u001b[39;49m\u001b[43m,\u001b[49m\u001b[43m \u001b[49m\u001b[43mname\u001b[49m\u001b[43m)\u001b[49m\n",
      "\u001b[0;31mAttributeError\u001b[0m: 'Series' object has no attribute 'p'"
     ]
    }
   ],
   "source": [
    "df['origin_coord'] = df['origin_coord'].p.x + random.randint(20,100)/10000.0"
   ]
  },
  {
   "cell_type": "code",
   "execution_count": 58,
   "id": "33e6d867",
   "metadata": {},
   "outputs": [
    {
     "ename": "AttributeError",
     "evalue": "'Series' object has no attribute 'set_crs'",
     "output_type": "error",
     "traceback": [
      "\u001b[0;31m---------------------------------------------------------------------------\u001b[0m",
      "\u001b[0;31mAttributeError\u001b[0m                            Traceback (most recent call last)",
      "Input \u001b[0;32mIn [58]\u001b[0m, in \u001b[0;36m<cell line: 1>\u001b[0;34m()\u001b[0m\n\u001b[0;32m----> 1\u001b[0m \u001b[43mdf\u001b[49m\u001b[43m[\u001b[49m\u001b[38;5;124;43m'\u001b[39;49m\u001b[38;5;124;43morigin_coord\u001b[39;49m\u001b[38;5;124;43m'\u001b[39;49m\u001b[43m]\u001b[49m\u001b[38;5;241;43m.\u001b[39;49m\u001b[43mset_crs\u001b[49m(\u001b[38;5;241m4326\u001b[39m, allow_override\u001b[38;5;241m=\u001b[39m\u001b[38;5;28;01mTrue\u001b[39;00m)\n",
      "File \u001b[0;32m~/.pyenv/versions/jobsite/lib/python3.9/site-packages/pandas/core/generic.py:5575\u001b[0m, in \u001b[0;36mNDFrame.__getattr__\u001b[0;34m(self, name)\u001b[0m\n\u001b[1;32m   5568\u001b[0m \u001b[38;5;28;01mif\u001b[39;00m (\n\u001b[1;32m   5569\u001b[0m     name \u001b[38;5;129;01mnot\u001b[39;00m \u001b[38;5;129;01min\u001b[39;00m \u001b[38;5;28mself\u001b[39m\u001b[38;5;241m.\u001b[39m_internal_names_set\n\u001b[1;32m   5570\u001b[0m     \u001b[38;5;129;01mand\u001b[39;00m name \u001b[38;5;129;01mnot\u001b[39;00m \u001b[38;5;129;01min\u001b[39;00m \u001b[38;5;28mself\u001b[39m\u001b[38;5;241m.\u001b[39m_metadata\n\u001b[1;32m   5571\u001b[0m     \u001b[38;5;129;01mand\u001b[39;00m name \u001b[38;5;129;01mnot\u001b[39;00m \u001b[38;5;129;01min\u001b[39;00m \u001b[38;5;28mself\u001b[39m\u001b[38;5;241m.\u001b[39m_accessors\n\u001b[1;32m   5572\u001b[0m     \u001b[38;5;129;01mand\u001b[39;00m \u001b[38;5;28mself\u001b[39m\u001b[38;5;241m.\u001b[39m_info_axis\u001b[38;5;241m.\u001b[39m_can_hold_identifiers_and_holds_name(name)\n\u001b[1;32m   5573\u001b[0m ):\n\u001b[1;32m   5574\u001b[0m     \u001b[38;5;28;01mreturn\u001b[39;00m \u001b[38;5;28mself\u001b[39m[name]\n\u001b[0;32m-> 5575\u001b[0m \u001b[38;5;28;01mreturn\u001b[39;00m \u001b[38;5;28;43mobject\u001b[39;49m\u001b[38;5;241;43m.\u001b[39;49m\u001b[38;5;21;43m__getattribute__\u001b[39;49m\u001b[43m(\u001b[49m\u001b[38;5;28;43mself\u001b[39;49m\u001b[43m,\u001b[49m\u001b[43m \u001b[49m\u001b[43mname\u001b[49m\u001b[43m)\u001b[49m\n",
      "\u001b[0;31mAttributeError\u001b[0m: 'Series' object has no attribute 'set_crs'"
     ]
    }
   ],
   "source": [
    "df['origin_coord'].set_crs(4326, allow_override=True)"
   ]
  },
  {
   "cell_type": "code",
   "execution_count": 57,
   "id": "e5feb0a6",
   "metadata": {},
   "outputs": [
    {
     "data": {
      "text/plain": [
       "region                 object\n",
       "origin_coord           object\n",
       "destination_coord      object\n",
       "datetime               object\n",
       "datasource             object\n",
       "geometry             geometry\n",
       "dtype: object"
      ]
     },
     "execution_count": 57,
     "metadata": {},
     "output_type": "execute_result"
    }
   ],
   "source": [
    "df.dtypes\n",
    "\n"
   ]
  },
  {
   "cell_type": "code",
   "execution_count": 77,
   "id": "451d6f9c",
   "metadata": {},
   "outputs": [
    {
     "data": {
      "text/html": [
       "<div>\n",
       "<style scoped>\n",
       "    .dataframe tbody tr th:only-of-type {\n",
       "        vertical-align: middle;\n",
       "    }\n",
       "\n",
       "    .dataframe tbody tr th {\n",
       "        vertical-align: top;\n",
       "    }\n",
       "\n",
       "    .dataframe thead th {\n",
       "        text-align: right;\n",
       "    }\n",
       "</style>\n",
       "<table border=\"1\" class=\"dataframe\">\n",
       "  <thead>\n",
       "    <tr style=\"text-align: right;\">\n",
       "      <th></th>\n",
       "      <th>region</th>\n",
       "      <th>origin_coord</th>\n",
       "      <th>destination_coord</th>\n",
       "      <th>datetime</th>\n",
       "      <th>datasource</th>\n",
       "      <th>geometry</th>\n",
       "    </tr>\n",
       "  </thead>\n",
       "  <tbody>\n",
       "    <tr>\n",
       "      <th>0</th>\n",
       "      <td>Prague</td>\n",
       "      <td>POINT (14.4973794438195 50.00136875782316)</td>\n",
       "      <td>POINT (14.43109483523328 50.04052930943246)</td>\n",
       "      <td>2018-05-28 09:03:40</td>\n",
       "      <td>funny_car</td>\n",
       "      <td>POINT (14.43109 50.04053)</td>\n",
       "    </tr>\n",
       "    <tr>\n",
       "      <th>1</th>\n",
       "      <td>Turin</td>\n",
       "      <td>POINT (7.672837913286881 44.9957109242058)</td>\n",
       "      <td>POINT (7.720368637535126 45.06782385393849)</td>\n",
       "      <td>2018-05-21 02:54:04</td>\n",
       "      <td>baba_car</td>\n",
       "      <td>POINT (7.72037 45.06782)</td>\n",
       "    </tr>\n",
       "    <tr>\n",
       "      <th>2</th>\n",
       "      <td>Prague</td>\n",
       "      <td>POINT (14.32427345662177 50.00002074358429)</td>\n",
       "      <td>POINT (14.47767895969969 50.09339790740321)</td>\n",
       "      <td>2018-05-13 08:52:25</td>\n",
       "      <td>cheap_mobile</td>\n",
       "      <td>POINT (14.47768 50.09340)</td>\n",
       "    </tr>\n",
       "    <tr>\n",
       "      <th>3</th>\n",
       "      <td>Turin</td>\n",
       "      <td>POINT (7.541509189114433 45.09160503827746)</td>\n",
       "      <td>POINT (7.74528653441973 45.02628598341506)</td>\n",
       "      <td>2018-05-06 09:49:16</td>\n",
       "      <td>bad_diesel_vehicles</td>\n",
       "      <td>POINT (7.74529 45.02629)</td>\n",
       "    </tr>\n",
       "    <tr>\n",
       "      <th>4</th>\n",
       "      <td>Turin</td>\n",
       "      <td>POINT (7.614078119815749 45.13433106465422)</td>\n",
       "      <td>POINT (7.527497142312585 45.03335051325654)</td>\n",
       "      <td>2018-05-23 12:45:54</td>\n",
       "      <td>pt_search_app</td>\n",
       "      <td>POINT (7.52750 45.03335)</td>\n",
       "    </tr>\n",
       "    <tr>\n",
       "      <th>...</th>\n",
       "      <td>...</td>\n",
       "      <td>...</td>\n",
       "      <td>...</td>\n",
       "      <td>...</td>\n",
       "      <td>...</td>\n",
       "      <td>...</td>\n",
       "    </tr>\n",
       "    <tr>\n",
       "      <th>95</th>\n",
       "      <td>Prague</td>\n",
       "      <td>POINT (14.33562319852013 50.05977285737693)</td>\n",
       "      <td>POINT (14.45302412886982 50.06961029075634)</td>\n",
       "      <td>2018-05-03 18:56:45</td>\n",
       "      <td>cheap_mobile</td>\n",
       "      <td>POINT (14.45302 50.06961)</td>\n",
       "    </tr>\n",
       "    <tr>\n",
       "      <th>96</th>\n",
       "      <td>Hamburg</td>\n",
       "      <td>POINT (9.996714798980491 53.52203690589671)</td>\n",
       "      <td>POINT (10.17431393081631 53.51796499041119)</td>\n",
       "      <td>2018-05-23 12:43:17</td>\n",
       "      <td>baba_car</td>\n",
       "      <td>POINT (10.17431 53.51796)</td>\n",
       "    </tr>\n",
       "    <tr>\n",
       "      <th>97</th>\n",
       "      <td>Prague</td>\n",
       "      <td>POINT (14.40975521275597 50.037791514028)</td>\n",
       "      <td>POINT (14.59895464921585 50.05472087955579)</td>\n",
       "      <td>2018-05-12 08:13:09</td>\n",
       "      <td>cheap_mobile</td>\n",
       "      <td>POINT (14.59895 50.05472)</td>\n",
       "    </tr>\n",
       "    <tr>\n",
       "      <th>98</th>\n",
       "      <td>Hamburg</td>\n",
       "      <td>POINT (10.08338857045871 53.59661344302611)</td>\n",
       "      <td>POINT (10.17914017806172 53.60909301795856)</td>\n",
       "      <td>2018-05-22 10:39:49</td>\n",
       "      <td>baba_car</td>\n",
       "      <td>POINT (10.17914 53.60909)</td>\n",
       "    </tr>\n",
       "    <tr>\n",
       "      <th>99</th>\n",
       "      <td>Prague</td>\n",
       "      <td>POINT (14.61738744026195 50.03346482370401)</td>\n",
       "      <td>POINT (14.31199296863995 50.09604608872181)</td>\n",
       "      <td>2018-05-15 22:10:03</td>\n",
       "      <td>baba_car</td>\n",
       "      <td>POINT (14.31199 50.09605)</td>\n",
       "    </tr>\n",
       "  </tbody>\n",
       "</table>\n",
       "<p>100 rows × 6 columns</p>\n",
       "</div>"
      ],
      "text/plain": [
       "     region                                 origin_coord  \\\n",
       "0    Prague   POINT (14.4973794438195 50.00136875782316)   \n",
       "1     Turin   POINT (7.672837913286881 44.9957109242058)   \n",
       "2    Prague  POINT (14.32427345662177 50.00002074358429)   \n",
       "3     Turin  POINT (7.541509189114433 45.09160503827746)   \n",
       "4     Turin  POINT (7.614078119815749 45.13433106465422)   \n",
       "..      ...                                          ...   \n",
       "95   Prague  POINT (14.33562319852013 50.05977285737693)   \n",
       "96  Hamburg  POINT (9.996714798980491 53.52203690589671)   \n",
       "97   Prague    POINT (14.40975521275597 50.037791514028)   \n",
       "98  Hamburg  POINT (10.08338857045871 53.59661344302611)   \n",
       "99   Prague  POINT (14.61738744026195 50.03346482370401)   \n",
       "\n",
       "                              destination_coord             datetime  \\\n",
       "0   POINT (14.43109483523328 50.04052930943246)  2018-05-28 09:03:40   \n",
       "1   POINT (7.720368637535126 45.06782385393849)  2018-05-21 02:54:04   \n",
       "2   POINT (14.47767895969969 50.09339790740321)  2018-05-13 08:52:25   \n",
       "3    POINT (7.74528653441973 45.02628598341506)  2018-05-06 09:49:16   \n",
       "4   POINT (7.527497142312585 45.03335051325654)  2018-05-23 12:45:54   \n",
       "..                                          ...                  ...   \n",
       "95  POINT (14.45302412886982 50.06961029075634)  2018-05-03 18:56:45   \n",
       "96  POINT (10.17431393081631 53.51796499041119)  2018-05-23 12:43:17   \n",
       "97  POINT (14.59895464921585 50.05472087955579)  2018-05-12 08:13:09   \n",
       "98  POINT (10.17914017806172 53.60909301795856)  2018-05-22 10:39:49   \n",
       "99  POINT (14.31199296863995 50.09604608872181)  2018-05-15 22:10:03   \n",
       "\n",
       "             datasource                   geometry  \n",
       "0             funny_car  POINT (14.43109 50.04053)  \n",
       "1              baba_car   POINT (7.72037 45.06782)  \n",
       "2          cheap_mobile  POINT (14.47768 50.09340)  \n",
       "3   bad_diesel_vehicles   POINT (7.74529 45.02629)  \n",
       "4         pt_search_app   POINT (7.52750 45.03335)  \n",
       "..                  ...                        ...  \n",
       "95         cheap_mobile  POINT (14.45302 50.06961)  \n",
       "96             baba_car  POINT (10.17431 53.51796)  \n",
       "97         cheap_mobile  POINT (14.59895 50.05472)  \n",
       "98             baba_car  POINT (10.17914 53.60909)  \n",
       "99             baba_car  POINT (14.31199 50.09605)  \n",
       "\n",
       "[100 rows x 6 columns]"
      ]
     },
     "execution_count": 77,
     "metadata": {},
     "output_type": "execute_result"
    }
   ],
   "source": [
    "df = pd.read_csv('trips.csv')\n",
    "\n",
    "\n",
    "gs_origin = gpd.GeoSeries.from_wkt(df['origin_coord'])\n",
    "gs_dest = gpd.GeoSeries.from_wkt(df['destination_coord'])\n",
    "\n",
    "\n",
    "\n",
    "gdf = gpd.GeoDataFrame(df, geometry=gs_origin, crs=\"EPSG:4326\")\n",
    "gdf.rename({'geometry': 'origin_coord'})\n",
    "gdf = gpd.GeoDataFrame(gdf, geometry=gs_dest, crs=\"EPSG:4326\")\n",
    "gdf.rename({'geometry': 'destination_coord'})"
   ]
  },
  {
   "cell_type": "code",
   "execution_count": 79,
   "id": "0cdb2a39",
   "metadata": {},
   "outputs": [
    {
     "data": {
      "text/plain": [
       "region                 object\n",
       "origin_coord           object\n",
       "destination_coord      object\n",
       "datetime               object\n",
       "datasource             object\n",
       "geometry             geometry\n",
       "dtype: object"
      ]
     },
     "execution_count": 79,
     "metadata": {},
     "output_type": "execute_result"
    }
   ],
   "source": [
    "gdf.dtypes"
   ]
  },
  {
   "cell_type": "code",
   "execution_count": 80,
   "id": "616b7282",
   "metadata": {},
   "outputs": [
    {
     "ename": "AttributeError",
     "evalue": "'Series' object has no attribute 'x'",
     "output_type": "error",
     "traceback": [
      "\u001b[0;31m---------------------------------------------------------------------------\u001b[0m",
      "\u001b[0;31mAttributeError\u001b[0m                            Traceback (most recent call last)",
      "Input \u001b[0;32mIn [80]\u001b[0m, in \u001b[0;36m<cell line: 1>\u001b[0;34m()\u001b[0m\n\u001b[0;32m----> 1\u001b[0m \u001b[43mgdf\u001b[49m\u001b[38;5;241;43m.\u001b[39;49m\u001b[43morigin_coord\u001b[49m\u001b[38;5;241;43m.\u001b[39;49m\u001b[43mx\u001b[49m\n",
      "File \u001b[0;32m~/.pyenv/versions/jobsite/lib/python3.9/site-packages/pandas/core/generic.py:5575\u001b[0m, in \u001b[0;36mNDFrame.__getattr__\u001b[0;34m(self, name)\u001b[0m\n\u001b[1;32m   5568\u001b[0m \u001b[38;5;28;01mif\u001b[39;00m (\n\u001b[1;32m   5569\u001b[0m     name \u001b[38;5;129;01mnot\u001b[39;00m \u001b[38;5;129;01min\u001b[39;00m \u001b[38;5;28mself\u001b[39m\u001b[38;5;241m.\u001b[39m_internal_names_set\n\u001b[1;32m   5570\u001b[0m     \u001b[38;5;129;01mand\u001b[39;00m name \u001b[38;5;129;01mnot\u001b[39;00m \u001b[38;5;129;01min\u001b[39;00m \u001b[38;5;28mself\u001b[39m\u001b[38;5;241m.\u001b[39m_metadata\n\u001b[1;32m   5571\u001b[0m     \u001b[38;5;129;01mand\u001b[39;00m name \u001b[38;5;129;01mnot\u001b[39;00m \u001b[38;5;129;01min\u001b[39;00m \u001b[38;5;28mself\u001b[39m\u001b[38;5;241m.\u001b[39m_accessors\n\u001b[1;32m   5572\u001b[0m     \u001b[38;5;129;01mand\u001b[39;00m \u001b[38;5;28mself\u001b[39m\u001b[38;5;241m.\u001b[39m_info_axis\u001b[38;5;241m.\u001b[39m_can_hold_identifiers_and_holds_name(name)\n\u001b[1;32m   5573\u001b[0m ):\n\u001b[1;32m   5574\u001b[0m     \u001b[38;5;28;01mreturn\u001b[39;00m \u001b[38;5;28mself\u001b[39m[name]\n\u001b[0;32m-> 5575\u001b[0m \u001b[38;5;28;01mreturn\u001b[39;00m \u001b[38;5;28;43mobject\u001b[39;49m\u001b[38;5;241;43m.\u001b[39;49m\u001b[38;5;21;43m__getattribute__\u001b[39;49m\u001b[43m(\u001b[49m\u001b[38;5;28;43mself\u001b[39;49m\u001b[43m,\u001b[49m\u001b[43m \u001b[49m\u001b[43mname\u001b[49m\u001b[43m)\u001b[49m\n",
      "\u001b[0;31mAttributeError\u001b[0m: 'Series' object has no attribute 'x'"
     ]
    }
   ],
   "source": [
    "gdf.origin_coord.x\n"
   ]
  },
  {
   "cell_type": "code",
   "execution_count": null,
   "id": "5bfcf6b3",
   "metadata": {},
   "outputs": [],
   "source": []
  }
 ],
 "metadata": {
  "kernelspec": {
   "display_name": "Python 3 (ipykernel)",
   "language": "python",
   "name": "python3"
  },
  "language_info": {
   "codemirror_mode": {
    "name": "ipython",
    "version": 3
   },
   "file_extension": ".py",
   "mimetype": "text/x-python",
   "name": "python",
   "nbconvert_exporter": "python",
   "pygments_lexer": "ipython3",
   "version": "3.9.10"
  }
 },
 "nbformat": 4,
 "nbformat_minor": 5
}
